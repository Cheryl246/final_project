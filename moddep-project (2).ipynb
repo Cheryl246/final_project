{
 "cells": [
  {
   "cell_type": "code",
   "execution_count": 1,
   "metadata": {
    "execution": {
     "iopub.execute_input": "2025-06-06T10:00:08.263773Z",
     "iopub.status.busy": "2025-06-06T10:00:08.263017Z",
     "iopub.status.idle": "2025-06-06T10:00:08.269763Z",
     "shell.execute_reply": "2025-06-06T10:00:08.268641Z",
     "shell.execute_reply.started": "2025-06-06T10:00:08.263740Z"
    },
    "id": "AujyYTrsv5Zt",
    "trusted": true
   },
   "outputs": [],
   "source": [
    "import pandas as pd\n",
    "import numpy as np\n",
    "import pickle as pkl\n",
    "import matplotlib.pyplot as plt\n",
    "import seaborn as sns\n",
    "import statistics as sts\n",
    "import warnings\n",
    "from sklearn.feature_extraction.text import TfidfVectorizer\n",
    "from sklearn.impute import SimpleImputer\n",
    "from sklearn.metrics.pairwise import cosine_similarity\n",
    "import pickle\n",
    "from sklearn.metrics.pairwise import linear_kernel\n",
    "\n",
    "warnings.filterwarnings('ignore', category=FutureWarning)"
   ]
  },
  {
   "cell_type": "code",
   "execution_count": 2,
   "metadata": {
    "colab": {
     "base_uri": "https://localhost:8080/",
     "height": 642
    },
    "execution": {
     "iopub.execute_input": "2025-06-06T10:00:08.271838Z",
     "iopub.status.busy": "2025-06-06T10:00:08.271574Z",
     "iopub.status.idle": "2025-06-06T10:00:08.419559Z",
     "shell.execute_reply": "2025-06-06T10:00:08.418635Z",
     "shell.execute_reply.started": "2025-06-06T10:00:08.271818Z"
    },
    "id": "NuZ_XcLHxCuN",
    "outputId": "b0cda233-cf8d-4e45-880c-c23f51ed7a46",
    "trusted": true
   },
   "outputs": [
    {
     "data": {
      "text/html": [
       "<div>\n",
       "<style scoped>\n",
       "    .dataframe tbody tr th:only-of-type {\n",
       "        vertical-align: middle;\n",
       "    }\n",
       "\n",
       "    .dataframe tbody tr th {\n",
       "        vertical-align: top;\n",
       "    }\n",
       "\n",
       "    .dataframe thead th {\n",
       "        text-align: right;\n",
       "    }\n",
       "</style>\n",
       "<table border=\"1\" class=\"dataframe\">\n",
       "  <thead>\n",
       "    <tr style=\"text-align: right;\">\n",
       "      <th></th>\n",
       "      <th>show_id</th>\n",
       "      <th>type</th>\n",
       "      <th>title</th>\n",
       "      <th>director</th>\n",
       "      <th>cast</th>\n",
       "      <th>country</th>\n",
       "      <th>date_added</th>\n",
       "      <th>release_year</th>\n",
       "      <th>rating</th>\n",
       "      <th>duration</th>\n",
       "      <th>listed_in</th>\n",
       "      <th>description</th>\n",
       "    </tr>\n",
       "  </thead>\n",
       "  <tbody>\n",
       "    <tr>\n",
       "      <th>0</th>\n",
       "      <td>s1</td>\n",
       "      <td>Movie</td>\n",
       "      <td>Dick Johnson Is Dead</td>\n",
       "      <td>Kirsten Johnson</td>\n",
       "      <td>NaN</td>\n",
       "      <td>United States</td>\n",
       "      <td>September 25, 2021</td>\n",
       "      <td>2020</td>\n",
       "      <td>PG-13</td>\n",
       "      <td>90 min</td>\n",
       "      <td>Documentaries</td>\n",
       "      <td>As her father nears the end of his life, filmm...</td>\n",
       "    </tr>\n",
       "    <tr>\n",
       "      <th>1</th>\n",
       "      <td>s2</td>\n",
       "      <td>TV Show</td>\n",
       "      <td>Blood &amp; Water</td>\n",
       "      <td>NaN</td>\n",
       "      <td>Ama Qamata, Khosi Ngema, Gail Mabalane, Thaban...</td>\n",
       "      <td>South Africa</td>\n",
       "      <td>September 24, 2021</td>\n",
       "      <td>2021</td>\n",
       "      <td>TV-MA</td>\n",
       "      <td>2 Seasons</td>\n",
       "      <td>International TV Shows, TV Dramas, TV Mysteries</td>\n",
       "      <td>After crossing paths at a party, a Cape Town t...</td>\n",
       "    </tr>\n",
       "    <tr>\n",
       "      <th>2</th>\n",
       "      <td>s3</td>\n",
       "      <td>TV Show</td>\n",
       "      <td>Ganglands</td>\n",
       "      <td>Julien Leclercq</td>\n",
       "      <td>Sami Bouajila, Tracy Gotoas, Samuel Jouy, Nabi...</td>\n",
       "      <td>NaN</td>\n",
       "      <td>September 24, 2021</td>\n",
       "      <td>2021</td>\n",
       "      <td>TV-MA</td>\n",
       "      <td>1 Season</td>\n",
       "      <td>Crime TV Shows, International TV Shows, TV Act...</td>\n",
       "      <td>To protect his family from a powerful drug lor...</td>\n",
       "    </tr>\n",
       "    <tr>\n",
       "      <th>3</th>\n",
       "      <td>s4</td>\n",
       "      <td>TV Show</td>\n",
       "      <td>Jailbirds New Orleans</td>\n",
       "      <td>NaN</td>\n",
       "      <td>NaN</td>\n",
       "      <td>NaN</td>\n",
       "      <td>September 24, 2021</td>\n",
       "      <td>2021</td>\n",
       "      <td>TV-MA</td>\n",
       "      <td>1 Season</td>\n",
       "      <td>Docuseries, Reality TV</td>\n",
       "      <td>Feuds, flirtations and toilet talk go down amo...</td>\n",
       "    </tr>\n",
       "    <tr>\n",
       "      <th>4</th>\n",
       "      <td>s5</td>\n",
       "      <td>TV Show</td>\n",
       "      <td>Kota Factory</td>\n",
       "      <td>NaN</td>\n",
       "      <td>Mayur More, Jitendra Kumar, Ranjan Raj, Alam K...</td>\n",
       "      <td>India</td>\n",
       "      <td>September 24, 2021</td>\n",
       "      <td>2021</td>\n",
       "      <td>TV-MA</td>\n",
       "      <td>2 Seasons</td>\n",
       "      <td>International TV Shows, Romantic TV Shows, TV ...</td>\n",
       "      <td>In a city of coaching centers known to train I...</td>\n",
       "    </tr>\n",
       "  </tbody>\n",
       "</table>\n",
       "</div>"
      ],
      "text/plain": [
       "  show_id     type                  title         director  \\\n",
       "0      s1    Movie   Dick Johnson Is Dead  Kirsten Johnson   \n",
       "1      s2  TV Show          Blood & Water              NaN   \n",
       "2      s3  TV Show              Ganglands  Julien Leclercq   \n",
       "3      s4  TV Show  Jailbirds New Orleans              NaN   \n",
       "4      s5  TV Show           Kota Factory              NaN   \n",
       "\n",
       "                                                cast        country  \\\n",
       "0                                                NaN  United States   \n",
       "1  Ama Qamata, Khosi Ngema, Gail Mabalane, Thaban...   South Africa   \n",
       "2  Sami Bouajila, Tracy Gotoas, Samuel Jouy, Nabi...            NaN   \n",
       "3                                                NaN            NaN   \n",
       "4  Mayur More, Jitendra Kumar, Ranjan Raj, Alam K...          India   \n",
       "\n",
       "           date_added  release_year rating   duration  \\\n",
       "0  September 25, 2021          2020  PG-13     90 min   \n",
       "1  September 24, 2021          2021  TV-MA  2 Seasons   \n",
       "2  September 24, 2021          2021  TV-MA   1 Season   \n",
       "3  September 24, 2021          2021  TV-MA   1 Season   \n",
       "4  September 24, 2021          2021  TV-MA  2 Seasons   \n",
       "\n",
       "                                           listed_in  \\\n",
       "0                                      Documentaries   \n",
       "1    International TV Shows, TV Dramas, TV Mysteries   \n",
       "2  Crime TV Shows, International TV Shows, TV Act...   \n",
       "3                             Docuseries, Reality TV   \n",
       "4  International TV Shows, Romantic TV Shows, TV ...   \n",
       "\n",
       "                                         description  \n",
       "0  As her father nears the end of his life, filmm...  \n",
       "1  After crossing paths at a party, a Cape Town t...  \n",
       "2  To protect his family from a powerful drug lor...  \n",
       "3  Feuds, flirtations and toilet talk go down amo...  \n",
       "4  In a city of coaching centers known to train I...  "
      ]
     },
     "execution_count": 2,
     "metadata": {},
     "output_type": "execute_result"
    }
   ],
   "source": [
    "df = pd.read_csv(\"C:/Users/cheryl/OneDrive - Bina Nusantara/Documents/sem 4/modep/Final Project/netflix_titles.csv\")\n",
    "df.head()"
   ]
  },
  {
   "cell_type": "code",
   "execution_count": 3,
   "metadata": {
    "colab": {
     "base_uri": "https://localhost:8080/"
    },
    "execution": {
     "iopub.execute_input": "2025-06-06T10:00:08.420931Z",
     "iopub.status.busy": "2025-06-06T10:00:08.420608Z",
     "iopub.status.idle": "2025-06-06T10:00:08.427191Z",
     "shell.execute_reply": "2025-06-06T10:00:08.426212Z",
     "shell.execute_reply.started": "2025-06-06T10:00:08.420903Z"
    },
    "id": "bfkgVBStx2hN",
    "outputId": "508efb7a-971e-4527-8f42-93efef6e3ad9",
    "trusted": true
   },
   "outputs": [
    {
     "data": {
      "text/plain": [
       "(8807, 12)"
      ]
     },
     "execution_count": 3,
     "metadata": {},
     "output_type": "execute_result"
    }
   ],
   "source": [
    "df.shape"
   ]
  },
  {
   "cell_type": "code",
   "execution_count": 4,
   "metadata": {
    "colab": {
     "base_uri": "https://localhost:8080/"
    },
    "execution": {
     "iopub.execute_input": "2025-06-06T10:00:08.428584Z",
     "iopub.status.busy": "2025-06-06T10:00:08.428287Z",
     "iopub.status.idle": "2025-06-06T10:00:08.462890Z",
     "shell.execute_reply": "2025-06-06T10:00:08.461941Z",
     "shell.execute_reply.started": "2025-06-06T10:00:08.428552Z"
    },
    "id": "Nt11zXNmyALS",
    "outputId": "288a6287-264e-4990-d3ef-44ede9ce8b86",
    "trusted": true
   },
   "outputs": [
    {
     "name": "stdout",
     "output_type": "stream",
     "text": [
      "<class 'pandas.core.frame.DataFrame'>\n",
      "RangeIndex: 8807 entries, 0 to 8806\n",
      "Data columns (total 12 columns):\n",
      " #   Column        Non-Null Count  Dtype \n",
      "---  ------        --------------  ----- \n",
      " 0   show_id       8807 non-null   object\n",
      " 1   type          8807 non-null   object\n",
      " 2   title         8807 non-null   object\n",
      " 3   director      6173 non-null   object\n",
      " 4   cast          7982 non-null   object\n",
      " 5   country       7976 non-null   object\n",
      " 6   date_added    8797 non-null   object\n",
      " 7   release_year  8807 non-null   int64 \n",
      " 8   rating        8803 non-null   object\n",
      " 9   duration      8804 non-null   object\n",
      " 10  listed_in     8807 non-null   object\n",
      " 11  description   8807 non-null   object\n",
      "dtypes: int64(1), object(11)\n",
      "memory usage: 825.8+ KB\n"
     ]
    }
   ],
   "source": [
    "df.info()"
   ]
  },
  {
   "cell_type": "code",
   "execution_count": 5,
   "metadata": {
    "execution": {
     "iopub.execute_input": "2025-06-06T10:00:08.465593Z",
     "iopub.status.busy": "2025-06-06T10:00:08.465338Z",
     "iopub.status.idle": "2025-06-06T10:00:08.489838Z",
     "shell.execute_reply": "2025-06-06T10:00:08.488808Z",
     "shell.execute_reply.started": "2025-06-06T10:00:08.465573Z"
    },
    "trusted": true
   },
   "outputs": [
    {
     "data": {
      "text/plain": [
       "show_id\n",
       "s1       1\n",
       "s5875    1\n",
       "s5869    1\n",
       "s5870    1\n",
       "s5871    1\n",
       "        ..\n",
       "s2931    1\n",
       "s2930    1\n",
       "s2929    1\n",
       "s2928    1\n",
       "s8807    1\n",
       "Name: count, Length: 8807, dtype: int64"
      ]
     },
     "execution_count": 5,
     "metadata": {},
     "output_type": "execute_result"
    }
   ],
   "source": [
    "df['show_id'].value_counts()"
   ]
  },
  {
   "cell_type": "code",
   "execution_count": 6,
   "metadata": {
    "colab": {
     "base_uri": "https://localhost:8080/",
     "height": 209
    },
    "execution": {
     "iopub.execute_input": "2025-06-06T10:00:08.491359Z",
     "iopub.status.busy": "2025-06-06T10:00:08.491046Z",
     "iopub.status.idle": "2025-06-06T10:00:08.512519Z",
     "shell.execute_reply": "2025-06-06T10:00:08.511633Z",
     "shell.execute_reply.started": "2025-06-06T10:00:08.491337Z"
    },
    "id": "9T7PnH2jyEe5",
    "outputId": "29b33d6d-ade8-4002-eb04-8ac6de981225",
    "trusted": true
   },
   "outputs": [
    {
     "data": {
      "text/plain": [
       "type\n",
       "Movie      6131\n",
       "TV Show    2676\n",
       "Name: count, dtype: int64"
      ]
     },
     "execution_count": 6,
     "metadata": {},
     "output_type": "execute_result"
    }
   ],
   "source": [
    "df['type'].value_counts()"
   ]
  },
  {
   "cell_type": "code",
   "execution_count": 7,
   "metadata": {
    "colab": {
     "base_uri": "https://localhost:8080/",
     "height": 489
    },
    "execution": {
     "iopub.execute_input": "2025-06-06T10:00:08.513721Z",
     "iopub.status.busy": "2025-06-06T10:00:08.513453Z",
     "iopub.status.idle": "2025-06-06T10:00:08.539925Z",
     "shell.execute_reply": "2025-06-06T10:00:08.538897Z",
     "shell.execute_reply.started": "2025-06-06T10:00:08.513699Z"
    },
    "id": "cpl5NBKkyMLZ",
    "outputId": "ab7c0663-a4bd-4cb0-85a2-a9d0fd270f9b",
    "trusted": true
   },
   "outputs": [
    {
     "data": {
      "text/plain": [
       "title\n",
       "Dick Johnson Is Dead                     1\n",
       "Ip Man 2                                 1\n",
       "Hannibal Buress: Comedy Camisado         1\n",
       "Turbo FAST                               1\n",
       "Masha's Tales                            1\n",
       "                                        ..\n",
       "Love for Sale 2                          1\n",
       "ROAD TO ROMA                             1\n",
       "Good Time                                1\n",
       "Captain Underpants Epic Choice-o-Rama    1\n",
       "Zubaan                                   1\n",
       "Name: count, Length: 8807, dtype: int64"
      ]
     },
     "execution_count": 7,
     "metadata": {},
     "output_type": "execute_result"
    }
   ],
   "source": [
    "df['title'].value_counts()"
   ]
  },
  {
   "cell_type": "code",
   "execution_count": 8,
   "metadata": {
    "colab": {
     "base_uri": "https://localhost:8080/",
     "height": 489
    },
    "execution": {
     "iopub.execute_input": "2025-06-06T10:00:08.541218Z",
     "iopub.status.busy": "2025-06-06T10:00:08.540947Z",
     "iopub.status.idle": "2025-06-06T10:00:08.559099Z",
     "shell.execute_reply": "2025-06-06T10:00:08.558181Z",
     "shell.execute_reply.started": "2025-06-06T10:00:08.541197Z"
    },
    "id": "4DTMYBRyySO5",
    "outputId": "f25b2a76-e6a3-45a8-c7fd-5081d2b75b33",
    "trusted": true
   },
   "outputs": [
    {
     "data": {
      "text/plain": [
       "director\n",
       "Rajiv Chilaka                     19\n",
       "Raúl Campos, Jan Suter            18\n",
       "Marcus Raboy                      16\n",
       "Suhas Kadav                       16\n",
       "Jay Karas                         14\n",
       "                                  ..\n",
       "Raymie Muzquiz, Stu Livingston     1\n",
       "Joe Menendez                       1\n",
       "Eric Bross                         1\n",
       "Will Eisenberg                     1\n",
       "Mozez Singh                        1\n",
       "Name: count, Length: 4528, dtype: int64"
      ]
     },
     "execution_count": 8,
     "metadata": {},
     "output_type": "execute_result"
    }
   ],
   "source": [
    "df['director'].value_counts()"
   ]
  },
  {
   "cell_type": "code",
   "execution_count": 9,
   "metadata": {
    "colab": {
     "base_uri": "https://localhost:8080/",
     "height": 507
    },
    "execution": {
     "iopub.execute_input": "2025-06-06T10:00:08.560326Z",
     "iopub.status.busy": "2025-06-06T10:00:08.560004Z",
     "iopub.status.idle": "2025-06-06T10:00:08.585233Z",
     "shell.execute_reply": "2025-06-06T10:00:08.584148Z",
     "shell.execute_reply.started": "2025-06-06T10:00:08.560304Z"
    },
    "id": "fk_MdEsXysAv",
    "outputId": "e922aeb5-1aba-4d82-a71b-edd69cbfd189",
    "trusted": true
   },
   "outputs": [
    {
     "data": {
      "text/plain": [
       "cast\n",
       "David Attenborough                                                                                                                                                                            19\n",
       "Vatsal Dubey, Julie Tejwani, Rupa Bhimani, Jigna Bhardwaj, Rajesh Kava, Mousam, Swapnil                                                                                                       14\n",
       "Samuel West                                                                                                                                                                                   10\n",
       "Jeff Dunham                                                                                                                                                                                    7\n",
       "David Spade, London Hughes, Fortune Feimster                                                                                                                                                   6\n",
       "                                                                                                                                                                                              ..\n",
       "Michael Peña, Diego Luna, Tenoch Huerta, Joaquin Cosio, José María Yazpik, Matt Letscher, Alyssa Diaz                                                                                          1\n",
       "Nick Lachey, Vanessa Lachey                                                                                                                                                                    1\n",
       "Takeru Sato, Kasumi Arimura, Haru, Kentaro Sakaguchi, Takayuki Yamada, Kendo Kobayashi, Ken Yasuda, Arata Furuta, Suzuki Matsuo, Koichi Yamadera, Arata Iura, Chikako Kaku, Kotaro Yoshida     1\n",
       "Toyin Abraham, Sambasa Nzeribe, Chioma Chukwuka Akpotha, Chioma Omeruah, Chiwetalu Agu, Dele Odule, Femi Adebayo, Bayray McNwizu, Biodun Stephen                                               1\n",
       "Vicky Kaushal, Sarah-Jane Dias, Raaghav Chanana, Manish Chaudhary, Meghna Malik, Malkeet Rauni, Anita Shabdish, Chittaranjan Tripathy                                                          1\n",
       "Name: count, Length: 7692, dtype: int64"
      ]
     },
     "execution_count": 9,
     "metadata": {},
     "output_type": "execute_result"
    }
   ],
   "source": [
    "df['cast'].value_counts()"
   ]
  },
  {
   "cell_type": "code",
   "execution_count": 10,
   "metadata": {
    "execution": {
     "iopub.execute_input": "2025-06-06T10:00:08.586361Z",
     "iopub.status.busy": "2025-06-06T10:00:08.586117Z",
     "iopub.status.idle": "2025-06-06T10:00:08.604303Z",
     "shell.execute_reply": "2025-06-06T10:00:08.603362Z",
     "shell.execute_reply.started": "2025-06-06T10:00:08.586333Z"
    },
    "trusted": true
   },
   "outputs": [
    {
     "data": {
      "text/plain": [
       "country\n",
       "United States                             2818\n",
       "India                                      972\n",
       "United Kingdom                             419\n",
       "Japan                                      245\n",
       "South Korea                                199\n",
       "                                          ... \n",
       "Romania, Bulgaria, Hungary                   1\n",
       "Uruguay, Guatemala                           1\n",
       "France, Senegal, Belgium                     1\n",
       "Mexico, United States, Spain, Colombia       1\n",
       "United Arab Emirates, Jordan                 1\n",
       "Name: count, Length: 748, dtype: int64"
      ]
     },
     "execution_count": 10,
     "metadata": {},
     "output_type": "execute_result"
    }
   ],
   "source": [
    "df['country'].value_counts()"
   ]
  },
  {
   "cell_type": "code",
   "execution_count": 11,
   "metadata": {
    "colab": {
     "base_uri": "https://localhost:8080/",
     "height": 489
    },
    "execution": {
     "iopub.execute_input": "2025-06-06T10:00:08.605598Z",
     "iopub.status.busy": "2025-06-06T10:00:08.605281Z",
     "iopub.status.idle": "2025-06-06T10:00:08.629519Z",
     "shell.execute_reply": "2025-06-06T10:00:08.628312Z",
     "shell.execute_reply.started": "2025-06-06T10:00:08.605575Z"
    },
    "id": "zuJEv3Xyy-hZ",
    "outputId": "c8d216b0-4e2e-4889-a930-880619e7bbcf",
    "trusted": true
   },
   "outputs": [
    {
     "data": {
      "text/plain": [
       "date_added\n",
       "January 1, 2020      109\n",
       "November 1, 2019      89\n",
       "March 1, 2018         75\n",
       "December 31, 2019     74\n",
       "October 1, 2018       71\n",
       "                    ... \n",
       "December 4, 2016       1\n",
       "November 21, 2016      1\n",
       "November 19, 2016      1\n",
       "November 17, 2016      1\n",
       "January 11, 2020       1\n",
       "Name: count, Length: 1767, dtype: int64"
      ]
     },
     "execution_count": 11,
     "metadata": {},
     "output_type": "execute_result"
    }
   ],
   "source": [
    "df['date_added'].value_counts()"
   ]
  },
  {
   "cell_type": "code",
   "execution_count": 12,
   "metadata": {
    "colab": {
     "base_uri": "https://localhost:8080/",
     "height": 489
    },
    "execution": {
     "iopub.execute_input": "2025-06-06T10:00:08.631690Z",
     "iopub.status.busy": "2025-06-06T10:00:08.630778Z",
     "iopub.status.idle": "2025-06-06T10:00:08.654020Z",
     "shell.execute_reply": "2025-06-06T10:00:08.653142Z",
     "shell.execute_reply.started": "2025-06-06T10:00:08.631654Z"
    },
    "id": "AFST3Uk5zFom",
    "outputId": "27dc833d-1d18-4ef3-f59d-90f29b92c6d3",
    "trusted": true
   },
   "outputs": [
    {
     "data": {
      "text/plain": [
       "release_year\n",
       "2018    1147\n",
       "2017    1032\n",
       "2019    1030\n",
       "2020     953\n",
       "2016     902\n",
       "        ... \n",
       "1959       1\n",
       "1925       1\n",
       "1961       1\n",
       "1947       1\n",
       "1966       1\n",
       "Name: count, Length: 74, dtype: int64"
      ]
     },
     "execution_count": 12,
     "metadata": {},
     "output_type": "execute_result"
    }
   ],
   "source": [
    "df['release_year'].value_counts()"
   ]
  },
  {
   "cell_type": "code",
   "execution_count": 13,
   "metadata": {
    "execution": {
     "iopub.execute_input": "2025-06-06T10:00:08.658185Z",
     "iopub.status.busy": "2025-06-06T10:00:08.657838Z",
     "iopub.status.idle": "2025-06-06T10:00:08.677656Z",
     "shell.execute_reply": "2025-06-06T10:00:08.676612Z",
     "shell.execute_reply.started": "2025-06-06T10:00:08.658159Z"
    },
    "trusted": true
   },
   "outputs": [
    {
     "data": {
      "text/plain": [
       "rating\n",
       "TV-MA       3207\n",
       "TV-14       2160\n",
       "TV-PG        863\n",
       "R            799\n",
       "PG-13        490\n",
       "TV-Y7        334\n",
       "TV-Y         307\n",
       "PG           287\n",
       "TV-G         220\n",
       "NR            80\n",
       "G             41\n",
       "TV-Y7-FV       6\n",
       "NC-17          3\n",
       "UR             3\n",
       "74 min         1\n",
       "84 min         1\n",
       "66 min         1\n",
       "Name: count, dtype: int64"
      ]
     },
     "execution_count": 13,
     "metadata": {},
     "output_type": "execute_result"
    }
   ],
   "source": [
    "df['rating'].value_counts()"
   ]
  },
  {
   "cell_type": "code",
   "execution_count": 14,
   "metadata": {
    "execution": {
     "iopub.execute_input": "2025-06-06T10:00:08.679127Z",
     "iopub.status.busy": "2025-06-06T10:00:08.678754Z",
     "iopub.status.idle": "2025-06-06T10:00:08.704284Z",
     "shell.execute_reply": "2025-06-06T10:00:08.703238Z",
     "shell.execute_reply.started": "2025-06-06T10:00:08.679067Z"
    },
    "trusted": true
   },
   "outputs": [
    {
     "data": {
      "text/plain": [
       "duration\n",
       "1 Season     1793\n",
       "2 Seasons     425\n",
       "3 Seasons     199\n",
       "90 min        152\n",
       "94 min        146\n",
       "             ... \n",
       "16 min          1\n",
       "186 min         1\n",
       "193 min         1\n",
       "189 min         1\n",
       "191 min         1\n",
       "Name: count, Length: 220, dtype: int64"
      ]
     },
     "execution_count": 14,
     "metadata": {},
     "output_type": "execute_result"
    }
   ],
   "source": [
    "df['duration'].value_counts()"
   ]
  },
  {
   "cell_type": "code",
   "execution_count": 15,
   "metadata": {
    "execution": {
     "iopub.execute_input": "2025-06-06T10:00:08.705468Z",
     "iopub.status.busy": "2025-06-06T10:00:08.705184Z",
     "iopub.status.idle": "2025-06-06T10:00:08.729745Z",
     "shell.execute_reply": "2025-06-06T10:00:08.728993Z",
     "shell.execute_reply.started": "2025-06-06T10:00:08.705447Z"
    },
    "trusted": true
   },
   "outputs": [
    {
     "data": {
      "text/plain": [
       "listed_in\n",
       "Dramas, International Movies                          362\n",
       "Documentaries                                         359\n",
       "Stand-Up Comedy                                       334\n",
       "Comedies, Dramas, International Movies                274\n",
       "Dramas, Independent Movies, International Movies      252\n",
       "                                                     ... \n",
       "Kids' TV, TV Action & Adventure, TV Dramas              1\n",
       "TV Comedies, TV Dramas, TV Horror                       1\n",
       "Children & Family Movies, Comedies, LGBTQ Movies        1\n",
       "Kids' TV, Spanish-Language TV Shows, Teen TV Shows      1\n",
       "Cult Movies, Dramas, Thrillers                          1\n",
       "Name: count, Length: 514, dtype: int64"
      ]
     },
     "execution_count": 15,
     "metadata": {},
     "output_type": "execute_result"
    }
   ],
   "source": [
    "df['listed_in'].value_counts()"
   ]
  },
  {
   "cell_type": "code",
   "execution_count": 16,
   "metadata": {
    "execution": {
     "iopub.execute_input": "2025-06-06T10:00:08.731162Z",
     "iopub.status.busy": "2025-06-06T10:00:08.730846Z",
     "iopub.status.idle": "2025-06-06T10:00:08.757192Z",
     "shell.execute_reply": "2025-06-06T10:00:08.756301Z",
     "shell.execute_reply.started": "2025-06-06T10:00:08.731134Z"
    },
    "trusted": true
   },
   "outputs": [
    {
     "data": {
      "text/plain": [
       "description\n",
       "Paranormal activity at a lush, abandoned property alarms a group eager to redevelop the site, but the eerie events may not be as unearthly as they think.    4\n",
       "Challenged to compose 100 songs before he can marry the girl he loves, a tortured but passionate singer-songwriter embarks on a poignant musical journey.    3\n",
       "A surly septuagenarian gets another chance at her 20s after having her photo snapped at a studio that magically takes 50 years off her life.                 3\n",
       "Multiple women report their husbands as missing but when it appears they are looking for the same man, a police officer traces their cryptic connection.     3\n",
       "Secrets bubble to the surface after a sensual encounter and an unforeseen crime entangle two friends and a woman caught between them.                        2\n",
       "                                                                                                                                                            ..\n",
       "Sent away to evade an arranged marriage, a 14-year-old begins a harrowing journey of sex work and poverty in the slums of Accra.                             1\n",
       "When his partner in crime goes missing, a small-time crook’s life is transformed as he dedicates himself to raising the daughter his friend left behind.     1\n",
       "During 1962’s Cuban missile crisis, a troubled math genius finds himself drafted to play in a U.S.-Soviet chess match – and a deadly game of espionage.      1\n",
       "A teen's discovery of a vintage Polaroid camera develops into a darker tale when she finds that whoever takes their photo with it dies soon afterward.       1\n",
       "A scrappy but poor boy worms his way into a tycoon's dysfunctional family, while facing his fear of music and the truth about his past.                      1\n",
       "Name: count, Length: 8775, dtype: int64"
      ]
     },
     "execution_count": 16,
     "metadata": {},
     "output_type": "execute_result"
    }
   ],
   "source": [
    "df['description'].value_counts()"
   ]
  },
  {
   "cell_type": "code",
   "execution_count": 17,
   "metadata": {},
   "outputs": [
    {
     "data": {
      "image/png": "[encoded data removed]",
      "text/plain": [
       "<Figure size 1000x500 with 2 Axes>"
      ]
     },
     "metadata": {},
     "output_type": "display_data"
    }
   ],
   "source": [
    "df['decade'] = (df['release_year'] // 10) * 10  # Kelompokkan ke dekade\n",
    "\n",
    "decade_type = df.groupby(['decade', 'type']).size().unstack(fill_value=0)\n",
    "\n",
    "# Visualisasikan heatmap\n",
    "plt.figure(figsize=(10, 5))\n",
    "sns.heatmap(decade_type.T, cmap='YlOrRd', annot=True, fmt='d', linewidths=0.5)\n",
    "plt.title('Jumlah Movie & TV Show per Dekade')\n",
    "plt.xlabel('Dekade')\n",
    "plt.ylabel('Tipe')\n",
    "plt.tight_layout()\n",
    "plt.show()\n",
    "\n"
   ]
  },
  {
   "cell_type": "code",
   "execution_count": 18,
   "metadata": {},
   "outputs": [
    {
     "data": {
      "text/plain": [
       "Text(0, 0.5, 'Genre')"
      ]
     },
     "execution_count": 18,
     "metadata": {},
     "output_type": "execute_result"
    },
    {
     "data": {
      "image/png": "[encoded data removed]",
      "text/plain": [
       "<Figure size 1000x500 with 1 Axes>"
      ]
     },
     "metadata": {},
     "output_type": "display_data"
    }
   ],
   "source": [
    "# 4. Top 10 Genre (listed_in)\n",
    "plt.figure(figsize=(10, 5))\n",
    "# Genre bisa lebih dari 1, jadi perlu explode\n",
    "df_genre = df['listed_in'].dropna().str.split(', ').explode()\n",
    "top_genre = df_genre.value_counts().nlargest(10)\n",
    "sns.barplot(y=top_genre.index, x=top_genre.values, palette='coolwarm')\n",
    "plt.title('Top 10 Genre')\n",
    "plt.xlabel('Jumlah')\n",
    "plt.ylabel('Genre')"
   ]
  },
  {
   "cell_type": "code",
   "execution_count": 19,
   "metadata": {},
   "outputs": [
    {
     "data": {
      "text/plain": [
       "Text(0, 0.5, 'Negara')"
      ]
     },
     "execution_count": 19,
     "metadata": {},
     "output_type": "execute_result"
    },
    {
     "data": {
      "image/png": "[encoded data removed]",
      "text/plain": [
       "<Figure size 1000x500 with 1 Axes>"
      ]
     },
     "metadata": {},
     "output_type": "display_data"
    }
   ],
   "source": [
    "plt.figure(figsize=(10, 5))\n",
    "top_countries = df['country'].value_counts().nlargest(10)\n",
    "sns.barplot(y=top_countries.index, x=top_countries.values, palette='coolwarm')\n",
    "plt.title('Top 10 Negara')\n",
    "plt.xlabel('Jumlah')\n",
    "plt.ylabel('Negara')"
   ]
  },
  {
   "cell_type": "code",
   "execution_count": 20,
   "metadata": {},
   "outputs": [
    {
     "data": {
      "image/png": "[encoded data removed]",
      "text/plain": [
       "<Figure size 1000x500 with 1 Axes>"
      ]
     },
     "metadata": {},
     "output_type": "display_data"
    }
   ],
   "source": [
    "# top 10 director\n",
    "plt.figure(figsize=(10, 5))\n",
    "top_directors = df['director'].dropna().value_counts().nlargest(10)\n",
    "sns.barplot(y=top_directors.index, x=top_directors.values, palette='coolwarm')\n",
    "plt.title('Top 10 Sutradara Terbanyak')\n",
    "plt.xlabel('Jumlah Film')\n",
    "plt.ylabel('Sutradara')\n",
    "plt.show()\n"
   ]
  },
  {
   "cell_type": "code",
   "execution_count": 21,
   "metadata": {
    "colab": {
     "base_uri": "https://localhost:8080/"
    },
    "execution": {
     "iopub.execute_input": "2025-06-06T10:00:08.758528Z",
     "iopub.status.busy": "2025-06-06T10:00:08.758198Z",
     "iopub.status.idle": "2025-06-06T10:00:08.777633Z",
     "shell.execute_reply": "2025-06-06T10:00:08.776862Z",
     "shell.execute_reply.started": "2025-06-06T10:00:08.758496Z"
    },
    "id": "fgAwQwsd5fu3",
    "outputId": "570e4f52-0f66-473a-a3ee-1362c5e21f8a",
    "trusted": true
   },
   "outputs": [
    {
     "name": "stdout",
     "output_type": "stream",
     "text": [
      "Duplikat di Title: 0\n"
     ]
    }
   ],
   "source": [
    "# duplicate data in title\n",
    "title_duplicates = df['title'].duplicated().sum()\n",
    "print(f\"Duplikat di Title: {title_duplicates}\")"
   ]
  },
  {
   "cell_type": "code",
   "execution_count": null,
   "metadata": {},
   "outputs": [],
   "source": []
  },
  {
   "cell_type": "markdown",
   "metadata": {},
   "source": [
    "## Checking Null Value"
   ]
  },
  {
   "cell_type": "code",
   "execution_count": 22,
   "metadata": {
    "colab": {
     "base_uri": "https://localhost:8080/",
     "height": 460
    },
    "execution": {
     "iopub.execute_input": "2025-06-06T10:00:08.888659Z",
     "iopub.status.busy": "2025-06-06T10:00:08.888395Z",
     "iopub.status.idle": "2025-06-06T10:00:08.917660Z",
     "shell.execute_reply": "2025-06-06T10:00:08.916568Z",
     "shell.execute_reply.started": "2025-06-06T10:00:08.888638Z"
    },
    "id": "9dZqKud01BQZ",
    "outputId": "039e5f6c-1a1b-4564-cddb-a80d8900f394",
    "trusted": true
   },
   "outputs": [
    {
     "data": {
      "text/plain": [
       "show_id            0\n",
       "type               0\n",
       "title              0\n",
       "director        2634\n",
       "cast             825\n",
       "country          831\n",
       "date_added        10\n",
       "release_year       0\n",
       "rating             4\n",
       "duration           3\n",
       "listed_in          0\n",
       "description        0\n",
       "decade             0\n",
       "dtype: int64"
      ]
     },
     "execution_count": 22,
     "metadata": {},
     "output_type": "execute_result"
    }
   ],
   "source": [
    "miss_value = df.isnull().sum()\n",
    "miss_value"
   ]
  },
  {
   "cell_type": "markdown",
   "metadata": {},
   "source": [
    "## Prepocessing"
   ]
  },
  {
   "cell_type": "code",
   "execution_count": 23,
   "metadata": {
    "colab": {
     "base_uri": "https://localhost:8080/",
     "height": 256
    },
    "execution": {
     "iopub.execute_input": "2025-06-06T10:00:08.919137Z",
     "iopub.status.busy": "2025-06-06T10:00:08.918774Z",
     "iopub.status.idle": "2025-06-06T10:00:09.039001Z",
     "shell.execute_reply": "2025-06-06T10:00:09.038211Z",
     "shell.execute_reply.started": "2025-06-06T10:00:08.919109Z"
    },
    "id": "Lpfyl4KW5fyQ",
    "outputId": "8b3da799-4bb5-4412-e355-bbb7624183b1",
    "trusted": true
   },
   "outputs": [
    {
     "data": {
      "image/png": "[encoded data removed]",
      "text/plain": [
       "<Figure size 600x200 with 1 Axes>"
      ]
     },
     "metadata": {},
     "output_type": "display_data"
    },
    {
     "data": {
      "image/png": "[encoded data removed]",
      "text/plain": [
       "<Figure size 600x200 with 1 Axes>"
      ]
     },
     "metadata": {},
     "output_type": "display_data"
    }
   ],
   "source": [
    "# show outlier\n",
    "numeric_cols = df.select_dtypes(include=['float64', 'int64']).columns\n",
    "\n",
    "for col in numeric_cols:\n",
    "    plt.figure(figsize=(6, 2))\n",
    "    sns.boxplot(x=df[col])\n",
    "    plt.title(f'Outlier pada kolom {col}')\n",
    "    plt.show()"
   ]
  },
  {
   "cell_type": "code",
   "execution_count": 24,
   "metadata": {
    "execution": {
     "iopub.execute_input": "2025-06-06T10:00:09.049033Z",
     "iopub.status.busy": "2025-06-06T10:00:09.048699Z",
     "iopub.status.idle": "2025-06-06T10:00:09.072407Z",
     "shell.execute_reply": "2025-06-06T10:00:09.071343Z",
     "shell.execute_reply.started": "2025-06-06T10:00:09.048999Z"
    },
    "trusted": true
   },
   "outputs": [],
   "source": [
    "df['description'] = df['description'].fillna('')\n",
    "df['cast'] = df['cast'].fillna('')\n",
    "df['director'] = df['director'].fillna('')\n",
    "df['cast'] = df['cast'].apply(lambda x: [i.strip().lower().replace(' ', '') for i in x.split(',')[:3]]) \n",
    "df['genres'] = df['listed_in'].fillna('').apply(lambda x: [g.strip().lower().replace(' ', '') for g in x.split(',')])\n",
    "df['director'] = df['director'].apply(lambda x: [x.strip().lower().replace(' ', '')] if x else [])\n"
   ]
  },
  {
   "cell_type": "code",
   "execution_count": 25,
   "metadata": {
    "execution": {
     "iopub.execute_input": "2025-06-06T10:00:09.073869Z",
     "iopub.status.busy": "2025-06-06T10:00:09.073540Z",
     "iopub.status.idle": "2025-06-06T10:00:09.138870Z",
     "shell.execute_reply": "2025-06-06T10:00:09.137911Z",
     "shell.execute_reply.started": "2025-06-06T10:00:09.073837Z"
    },
    "trusted": true
   },
   "outputs": [],
   "source": [
    "def create_soup(x):\n",
    "    return ' '.join(x['genres'] + x['cast'] + x['director']) + ' ' + x['type']\n",
    "\n",
    "df['soup'] = df.apply(create_soup, axis=1)\n"
   ]
  },
  {
   "cell_type": "code",
   "execution_count": 26,
   "metadata": {
    "execution": {
     "iopub.execute_input": "2025-06-06T10:00:09.140358Z",
     "iopub.status.busy": "2025-06-06T10:00:09.140004Z",
     "iopub.status.idle": "2025-06-06T10:00:09.145363Z",
     "shell.execute_reply": "2025-06-06T10:00:09.144134Z",
     "shell.execute_reply.started": "2025-06-06T10:00:09.140327Z"
    },
    "trusted": true
   },
   "outputs": [],
   "source": [
    "tfidf = TfidfVectorizer(stop_words='english', max_features=5000)\n",
    "tfidf_matrix = tfidf.fit_transform(df['soup'])\n",
    "\n",
    "cosine_sim = linear_kernel(tfidf_matrix, tfidf_matrix)"
   ]
  },
  {
   "cell_type": "code",
   "execution_count": 27,
   "metadata": {
    "execution": {
     "iopub.execute_input": "2025-06-06T10:00:09.719569Z",
     "iopub.status.busy": "2025-06-06T10:00:09.719276Z",
     "iopub.status.idle": "2025-06-06T10:00:13.279098Z",
     "shell.execute_reply": "2025-06-06T10:00:13.278199Z",
     "shell.execute_reply.started": "2025-06-06T10:00:09.719547Z"
    },
    "trusted": true
   },
   "outputs": [],
   "source": [
    "indices = pd.Series(df.index, index=df['title']).drop_duplicates()\n",
    "titles = df['title']\n"
   ]
  },
  {
   "cell_type": "code",
   "execution_count": 33,
   "metadata": {
    "execution": {
     "iopub.execute_input": "2025-06-06T10:00:13.280206Z",
     "iopub.status.busy": "2025-06-06T10:00:13.279938Z",
     "iopub.status.idle": "2025-06-06T10:00:13.286211Z",
     "shell.execute_reply": "2025-06-06T10:00:13.285424Z",
     "shell.execute_reply.started": "2025-06-06T10:00:13.280183Z"
    },
    "trusted": true
   },
   "outputs": [],
   "source": [
    "def get_recommendations(title, topn=5):\n",
    "    idx = indices.get(title)\n",
    "    if idx is None:\n",
    "        return f\"**{title}** tidak ditemukan \"\n",
    "    sim_scores = list(enumerate(cosine_sim[idx]))\n",
    "    sim_scores = sorted(sim_scores, key=lambda x: x[1], reverse=True)\n",
    "    sim_scores = sim_scores[1:topn+1]\n",
    "    rec_idxs = [i[0] for i in sim_scores]\n",
    "    return df[['title','type','release_year','description','genres']].iloc[rec_idxs]\n"
   ]
  },
  {
   "cell_type": "code",
   "execution_count": 34,
   "metadata": {
    "execution": {
     "iopub.execute_input": "2025-06-06T10:05:44.222684Z",
     "iopub.status.busy": "2025-06-06T10:05:44.222329Z",
     "iopub.status.idle": "2025-06-06T10:05:44.242828Z",
     "shell.execute_reply": "2025-06-06T10:05:44.241730Z",
     "shell.execute_reply.started": "2025-06-06T10:05:44.222657Z"
    },
    "trusted": true
   },
   "outputs": [
    {
     "name": "stdout",
     "output_type": "stream",
     "text": [
      "                               title     type  release_year  \\\n",
      "6953                           Helix  TV Show          2015   \n",
      "2190            The Umbrella Academy  TV Show          2020   \n",
      "2303                     Warrior Nun  TV Show          2020   \n",
      "1473  Chilling Adventures of Sabrina  TV Show          2020   \n",
      "2297                  JU-ON: Origins  TV Show          2020   \n",
      "\n",
      "                                            description  \\\n",
      "6953  While investigating a possible outbreak at an ...   \n",
      "2190  Reunited by their father's death, estranged si...   \n",
      "2303  After waking up in a morgue, an orphaned teen ...   \n",
      "1473  Magic and mischief collide as half-human, half...   \n",
      "2297  A paranormal researcher searches obsessively f...   \n",
      "\n",
      "                                                 genres  \n",
      "6953          [tvhorror, tvmysteries, tvsci-fi&fantasy]  \n",
      "2190  [tvaction&adventure, tvmysteries, tvsci-fi&fan...  \n",
      "2303  [tvaction&adventure, tvmysteries, tvsci-fi&fan...  \n",
      "1473          [tvhorror, tvmysteries, tvsci-fi&fantasy]  \n",
      "2297      [internationaltvshows, tvhorror, tvmysteries]  \n"
     ]
    }
   ],
   "source": [
    "print(get_recommendations('Stranger Things', topn=5))"
   ]
  },
  {
   "cell_type": "code",
   "execution_count": 35,
   "metadata": {},
   "outputs": [],
   "source": [
    "# Simpan dictionary ini. \n",
    "with open('netflix_df.pkl', 'wb') as f:\n",
    "    pickle.dump(df, f)\n"
   ]
  }
 ],
 "metadata": {
  "colab": {
   "provenance": []
  },
  "kaggle": {
   "accelerator": "none",
   "dataSources": [
    {
     "datasetId": 6417893,
     "sourceId": 10362470,
     "sourceType": "datasetVersion"
    }
   ],
   "dockerImageVersionId": 31040,
   "isGpuEnabled": false,
   "isInternetEnabled": true,
   "language": "python",
   "sourceType": "notebook"
  },
  "kernelspec": {
   "display_name": "base",
   "language": "python",
   "name": "python3"
  },
  "language_info": {
   "codemirror_mode": {
    "name": "ipython",
    "version": 3
   },
   "file_extension": ".py",
   "mimetype": "text/x-python",
   "name": "python",
   "nbconvert_exporter": "python",
   "pygments_lexer": "ipython3",
   "version": "3.11.5"
  }
 },
 "nbformat": 4,
 "nbformat_minor": 4
}
